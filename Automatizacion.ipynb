{
 "cells": [
  {
   "cell_type": "markdown",
   "id": "1124abd9",
   "metadata": {},
   "source": [
    "### extraccion y seleccion de datos"
   ]
  },
  {
   "cell_type": "code",
   "execution_count": 22,
   "id": "43422dbe",
   "metadata": {},
   "outputs": [
    {
     "name": "stdout",
     "output_type": "stream",
     "text": [
      "✅ Datos guardados como 'lluvia_maxima_24h_2015_2025.csv'\n"
     ]
    }
   ],
   "source": [
    "import csv\n",
    "\n",
    "# Ruta del archivo .txt (ajústala según tu sistema operativo si es necesario)\n",
    "ruta_archivo = \"mes30003.txt\"\n",
    "\n",
    "# Flags de control\n",
    "extraer = False\n",
    "datos = []\n",
    "\n",
    "# Leer el archivo línea por línea\n",
    "with open(ruta_archivo, 'r', encoding='utf-8') as archivo:\n",
    "    for linea in archivo:\n",
    "        linea = linea.strip()\n",
    "\n",
    "        # Inicia el bloque de interés\n",
    "        if \"LLUVIA MÁXIMA 24 H.\" in linea.upper():\n",
    "            extraer = True\n",
    "            continue\n",
    "\n",
    "        # Si empieza con \"AÑO\", guardamos la cabecera\n",
    "        if extraer and linea.upper().startswith(\"AÑO\"):\n",
    "            encabezados = linea.split()\n",
    "            datos.append(encabezados)\n",
    "            continue\n",
    "\n",
    "        # Si estamos dentro del bloque, buscamos filas por año\n",
    "        if extraer:\n",
    "            if linea and linea[0:4].isdigit():\n",
    "                anio = int(linea[0:4])\n",
    "                if 2015 <= anio <= 2025:\n",
    "                    fila = linea.split()\n",
    "                    datos.append(fila)\n",
    "\n",
    "            # Si detectamos una línea vacía, asumimos que terminó el bloque\n",
    "            elif linea == \"\":\n",
    "                break\n",
    "\n",
    "# Guardar en CSV\n",
    "with open(\"lluvia_maxima_24h_2015_2025.csv\", \"w\", newline='', encoding='utf-8') as salida:\n",
    "    escritor = csv.writer(salida)\n",
    "    escritor.writerows(datos)\n",
    "\n",
    "print(\"✅ Datos guardados como 'lluvia_maxima_24h_2015_2025.csv'\")\n"
   ]
  },
  {
   "cell_type": "markdown",
   "id": "5724db84",
   "metadata": {},
   "source": [
    "### Eliminacion de filas"
   ]
  },
  {
   "cell_type": "code",
   "execution_count": null,
   "id": "af2556f0",
   "metadata": {},
   "outputs": [
    {
     "name": "stdout",
     "output_type": "stream",
     "text": [
      "✅ Archivo guardado como 'lluvia_maxima_numerada.csv'\n"
     ]
    },
    {
     "ename": "AttributeError",
     "evalue": "'list' object has no attribute 'to_csv'",
     "output_type": "error",
     "traceback": [
      "\u001b[31m---------------------------------------------------------------------------\u001b[39m",
      "\u001b[31mAttributeError\u001b[39m                            Traceback (most recent call last)",
      "\u001b[36mCell\u001b[39m\u001b[36m \u001b[39m\u001b[32mIn[25]\u001b[39m\u001b[32m, line 49\u001b[39m\n\u001b[32m     43\u001b[39m \u001b[38;5;28mprint\u001b[39m(\u001b[33m\"\u001b[39m\u001b[33m✅ Archivo guardado como \u001b[39m\u001b[33m'\u001b[39m\u001b[33mlluvia_maxima_numerada.csv\u001b[39m\u001b[33m'\u001b[39m\u001b[33m\"\u001b[39m)\n\u001b[32m     48\u001b[39m \u001b[38;5;66;03m#Se genera el nuevo csv\u001b[39;00m\n\u001b[32m---> \u001b[39m\u001b[32m49\u001b[39m \u001b[43mdatos\u001b[49m\u001b[43m.\u001b[49m\u001b[43mto_csv\u001b[49m(\u001b[33m\"\u001b[39m\u001b[33mlluvia_maxima_24h_2015_2025_limpio.csv\u001b[39m\u001b[33m\"\u001b[39m, index=\u001b[38;5;28;01mFalse\u001b[39;00m)\n",
      "\u001b[31mAttributeError\u001b[39m: 'list' object has no attribute 'to_csv'"
     ]
    }
   ],
   "source": [
    "import pandas as pd\n",
    "\n",
    "datos = pd.read_csv(r\"lluvia_maxima_24h_2015_2025.csv\")\n",
    "#elimina las flas acum prom y meses\n",
    "datos = datos.drop(columns=['ACUM', 'PROM', 'MESES'])\n",
    "\n",
    "datos.head(14)\n",
    "\n",
    "#Se genera el nuevo csv\n",
    "datos.to_csv(\"lluvia_maxima_24h_2015_2025_limpio.csv\", index=False)"
   ]
  },
  {
   "cell_type": "markdown",
   "id": "cfce5791",
   "metadata": {},
   "source": [
    "### Eliminacion del csv creado primero"
   ]
  },
  {
   "cell_type": "code",
   "execution_count": null,
   "id": "08567033",
   "metadata": {},
   "outputs": [
    {
     "name": "stdout",
     "output_type": "stream",
     "text": [
      "✅ Archivo original eliminado.\n"
     ]
    }
   ],
   "source": [
    "#gaurdar el nuevo csv\n",
    "datos.to_csv(\"lluvia_maxima_24h_2015_2025_limpio.csv\", index=False)\n",
    "#eliminar el csv original\n",
    "import os\n",
    "if os.path.exists(\"lluvia_maxima_24h_2015_2025.csv\"):\n",
    "    os.remove(\"lluvia_maxima_24h_2015_2025.csv\")\n",
    "    print(\"✅ Archivo original eliminado.\")"
   ]
  },
  {
   "cell_type": "markdown",
   "id": "49616396",
   "metadata": {},
   "source": []
  }
 ],
 "metadata": {
  "kernelspec": {
   "display_name": "Python 3",
   "language": "python",
   "name": "python3"
  },
  "language_info": {
   "codemirror_mode": {
    "name": "ipython",
    "version": 3
   },
   "file_extension": ".py",
   "mimetype": "text/x-python",
   "name": "python",
   "nbconvert_exporter": "python",
   "pygments_lexer": "ipython3",
   "version": "3.11.0"
  }
 },
 "nbformat": 4,
 "nbformat_minor": 5
}
